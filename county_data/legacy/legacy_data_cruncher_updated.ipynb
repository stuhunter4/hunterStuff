{
 "cells": [
  {
   "cell_type": "code",
   "execution_count": 1,
   "metadata": {},
   "outputs": [],
   "source": [
    "import pandas as pd\n",
    "import numpy as np\n",
    "import matplotlib.pyplot as plt"
   ]
  },
  {
   "cell_type": "markdown",
   "metadata": {},
   "source": [
    "### 3/19/2021: Discovered the data from CA Open Data Portal had been deprecated\n",
    "New datasets are from CA HHS Open Data, with different organization"
   ]
  },
  {
   "cell_type": "markdown",
   "metadata": {},
   "source": [
    "#### Skip the following development work to update data files"
   ]
  },
  {
   "cell_type": "code",
   "execution_count": null,
   "metadata": {},
   "outputs": [],
   "source": [
    "cases = pd.read_csv(\"resources/statewide_cases.csv\")\n",
    "cases"
   ]
  },
  {
   "cell_type": "code",
   "execution_count": null,
   "metadata": {},
   "outputs": [],
   "source": [
    "new_cases = pd.read_csv(\"resources/covid19cases_test.csv\")\n",
    "new_cases"
   ]
  },
  {
   "cell_type": "code",
   "execution_count": null,
   "metadata": {},
   "outputs": [],
   "source": [
    "# create new DataFrame to fit into old paradigm, now with population\n",
    "data = new_cases[[\"area\", \"cumulative_cases\", \"cumulative_deaths\", \"cases\", \"deaths\", \"date\", \"population\"]]"
   ]
  },
  {
   "cell_type": "code",
   "execution_count": null,
   "metadata": {},
   "outputs": [],
   "source": [
    "# renaming the columns is easier than changing the function\n",
    "data.columns = [\"county\", \"totalcountconfirmed\", \"totalcountdeaths\", \"newcountconfirmed\", \"newcountdeaths\", \"date\", \"population\"]"
   ]
  },
  {
   "cell_type": "code",
   "execution_count": null,
   "metadata": {},
   "outputs": [],
   "source": [
    "# dropping the rows having NaN values \n",
    "data = data.dropna()"
   ]
  },
  {
   "cell_type": "code",
   "execution_count": null,
   "metadata": {},
   "outputs": [],
   "source": [
    "# dates sorted from earliest to latest (low to high)\n",
    "data = data.sort_values(\"date\")"
   ]
  },
  {
   "cell_type": "code",
   "execution_count": null,
   "metadata": {},
   "outputs": [],
   "source": [
    "# remove rows that are not counties or California\n",
    "clean_cases = data.loc[ (data[\"county\"] != \"Unknown\") & (data[\"county\"] != \"Out of state\")]\n",
    "# create list of 58 counties to iterate through\n",
    "counties = clean_cases[\"county\"].unique().tolist()"
   ]
  },
  {
   "cell_type": "code",
   "execution_count": null,
   "metadata": {},
   "outputs": [],
   "source": [
    "# given the dates in our dataset, create list of dates & array of integers to represent one-week periods\n",
    "dates = clean_cases[\"date\"].unique().tolist()\n",
    "weeks = np.arange(0, len(dates), 7).tolist()"
   ]
  },
  {
   "cell_type": "code",
   "execution_count": null,
   "metadata": {},
   "outputs": [],
   "source": [
    "# create an empty DataFrame for appending calculated data to\n",
    "column_names = [\"County\", \"week\", \"week number\", \"total cases\", \"total deaths\", \"Population\"]\n",
    "weekly_df = pd.DataFrame(columns = column_names)"
   ]
  },
  {
   "cell_type": "code",
   "execution_count": null,
   "metadata": {},
   "outputs": [],
   "source": [
    "# for loops that iterate through each week period, collecting the total cases and deaths per county\n",
    "counter = 1\n",
    "for ref in weeks:\n",
    "    for county in counties:\n",
    "        try:\n",
    "            df = clean_cases.loc[clean_cases[\"county\"] == county]\n",
    "            df = df.reset_index(drop=True)\n",
    "            df = df.loc[(df.index >= ref) & (df.index <= (ref+6))]\n",
    "            weekly_cases = df[\"newcountconfirmed\"].sum()\n",
    "            weekly_deaths = df[\"newcountdeaths\"].sum()\n",
    "            period = f\"{dates[ref]} to {dates[ref+6]}\"\n",
    "            pop = df[\"population\"].unique()[0]\n",
    "            data = pd.DataFrame({\"County\": [county], \"week\": period, \"week number\": counter,\n",
    "                                 \"total cases\": weekly_cases, \"total deaths\": weekly_deaths, \"Population\": pop})\n",
    "            weekly_df = weekly_df.append(data)\n",
    "                \n",
    "        except:\n",
    "            print(\"Not enough dates.\")\n",
    "        \n",
    "    counter += 1"
   ]
  },
  {
   "cell_type": "code",
   "execution_count": null,
   "metadata": {},
   "outputs": [],
   "source": [
    "# create new columns for calculating weekly averages & per capita weekly averages\n",
    "weekly_df[\"average cases\"] = weekly_df[\"total cases\"]/ 7\n",
    "weekly_df[\"cases per cap\"] = (weekly_df[\"average cases\"]/weekly_df[\"Population\"]) * 100000\n",
    "weekly_df[\"average deaths\"] = weekly_df[\"total deaths\"]/ 7\n",
    "weekly_df[\"deaths per cap\"] = (weekly_df[\"average deaths\"]/weekly_df[\"Population\"]) * 100000\n",
    "\n",
    "# format columns for rounded decimals and commas\n",
    "weekly_df[\"Population\"] = weekly_df[\"Population\"].map(\"{:,}\".format)\n",
    "weekly_df[\"average cases\"] = weekly_df[\"average cases\"].astype(float).round(3)\n",
    "weekly_df[\"cases per cap\"] = weekly_df[\"cases per cap\"].astype(float).round(3)\n",
    "weekly_df[\"average deaths\"] = weekly_df[\"average deaths\"].astype(float).round(3)\n",
    "weekly_df[\"deaths per cap\"] = weekly_df[\"deaths per cap\"].astype(float).round(3)"
   ]
  },
  {
   "cell_type": "code",
   "execution_count": null,
   "metadata": {},
   "outputs": [],
   "source": [
    "# verification\n",
    "weekly_df"
   ]
  },
  {
   "cell_type": "markdown",
   "metadata": {},
   "source": [
    "### Cells for updating data"
   ]
  },
  {
   "cell_type": "code",
   "execution_count": 2,
   "metadata": {},
   "outputs": [],
   "source": [
    "# commentary for code above\n",
    "def weekly(new_cases):\n",
    "    data = new_cases[[\"area\", \"cumulative_cases\", \"cumulative_deaths\", \"cases\", \"deaths\", \"date\", \"population\"]]\n",
    "    data.columns = [\"county\", \"totalcountconfirmed\", \"totalcountdeaths\", \"newcountconfirmed\", \"newcountdeaths\", \"date\", \"population\"]\n",
    "    data = data.dropna()\n",
    "    data = data.sort_values(\"date\")\n",
    "    clean_cases = data.loc[ (data[\"county\"] != \"Unknown\") & (data[\"county\"] != \"Out of state\")]\n",
    "    counties = clean_cases[\"county\"].unique().tolist()\n",
    "    dates = clean_cases[\"date\"].unique().tolist()\n",
    "    weeks = np.arange(0, len(dates), 7).tolist()\n",
    "    column_names = [\"County\", \"week\", \"week number\", \"total cases\", \"total deaths\", \"Population\"]\n",
    "    weekly_df = pd.DataFrame(columns = column_names)\n",
    "    counter = 1\n",
    "    for ref in weeks:\n",
    "        for county in counties:\n",
    "            try:\n",
    "                df = clean_cases.loc[clean_cases[\"county\"] == county]\n",
    "                df = df.reset_index(drop=True)\n",
    "                df = df.loc[(df.index >= ref) & (df.index <= (ref+6))]\n",
    "                weekly_cases = df[\"newcountconfirmed\"].sum()\n",
    "                weekly_deaths = df[\"newcountdeaths\"].sum()\n",
    "                period = f\"{dates[ref]} to {dates[ref+6]}\"\n",
    "                pop = df[\"population\"].unique()[0]\n",
    "                data = pd.DataFrame({\"County\": [county], \"week\": period, \"week number\": counter,\n",
    "                                     \"total cases\": weekly_cases, \"total deaths\": weekly_deaths, \"Population\": pop})\n",
    "                weekly_df = weekly_df.append(data)\n",
    "            except:\n",
    "                print(\"Not enough dates.\")\n",
    "        counter += 1\n",
    "    weekly_df[\"average cases\"] = weekly_df[\"total cases\"]/ 7\n",
    "    weekly_df[\"cases per cap\"] = (weekly_df[\"average cases\"]/weekly_df[\"Population\"]) * 100000\n",
    "    weekly_df[\"average deaths\"] = weekly_df[\"total deaths\"]/ 7\n",
    "    weekly_df[\"deaths per cap\"] = (weekly_df[\"average deaths\"]/weekly_df[\"Population\"]) * 100000\n",
    "    weekly_df[\"Population\"] = weekly_df[\"Population\"].map(\"{:,}\".format)\n",
    "    weekly_df[\"average cases\"] = weekly_df[\"average cases\"].astype(float).round(3)\n",
    "    weekly_df[\"cases per cap\"] = weekly_df[\"cases per cap\"].astype(float).round(3)\n",
    "    weekly_df[\"average deaths\"] = weekly_df[\"average deaths\"].astype(float).round(3)\n",
    "    weekly_df[\"deaths per cap\"] = weekly_df[\"deaths per cap\"].astype(float).round(3)\n",
    "    return weekly_df"
   ]
  },
  {
   "cell_type": "code",
   "execution_count": 3,
   "metadata": {},
   "outputs": [
    {
     "ename": "KeyError",
     "evalue": "\"['cumulative_deaths', 'cumulative_cases'] not in index\"",
     "output_type": "error",
     "traceback": [
      "\u001b[1;31m---------------------------------------------------------------------------\u001b[0m",
      "\u001b[1;31mKeyError\u001b[0m                                  Traceback (most recent call last)",
      "\u001b[1;32m<ipython-input-3-02ccc063744c>\u001b[0m in \u001b[0;36m<module>\u001b[1;34m\u001b[0m\n\u001b[0;32m      1\u001b[0m \u001b[0mnew_cases\u001b[0m \u001b[1;33m=\u001b[0m \u001b[0mpd\u001b[0m\u001b[1;33m.\u001b[0m\u001b[0mread_csv\u001b[0m\u001b[1;33m(\u001b[0m\u001b[1;34m\"resources/covid19cases_test.csv\"\u001b[0m\u001b[1;33m)\u001b[0m\u001b[1;33m\u001b[0m\u001b[1;33m\u001b[0m\u001b[0m\n\u001b[1;32m----> 2\u001b[1;33m \u001b[0mcovid_weekly\u001b[0m \u001b[1;33m=\u001b[0m \u001b[0mweekly\u001b[0m\u001b[1;33m(\u001b[0m\u001b[0mnew_cases\u001b[0m\u001b[1;33m)\u001b[0m\u001b[1;33m\u001b[0m\u001b[1;33m\u001b[0m\u001b[0m\n\u001b[0m",
      "\u001b[1;32m<ipython-input-2-9893aaa3147e>\u001b[0m in \u001b[0;36mweekly\u001b[1;34m(new_cases)\u001b[0m\n\u001b[0;32m      1\u001b[0m \u001b[1;31m# commentary for code above\u001b[0m\u001b[1;33m\u001b[0m\u001b[1;33m\u001b[0m\u001b[1;33m\u001b[0m\u001b[0m\n\u001b[0;32m      2\u001b[0m \u001b[1;32mdef\u001b[0m \u001b[0mweekly\u001b[0m\u001b[1;33m(\u001b[0m\u001b[0mnew_cases\u001b[0m\u001b[1;33m)\u001b[0m\u001b[1;33m:\u001b[0m\u001b[1;33m\u001b[0m\u001b[1;33m\u001b[0m\u001b[0m\n\u001b[1;32m----> 3\u001b[1;33m     \u001b[0mdata\u001b[0m \u001b[1;33m=\u001b[0m \u001b[0mnew_cases\u001b[0m\u001b[1;33m[\u001b[0m\u001b[1;33m[\u001b[0m\u001b[1;34m\"area\"\u001b[0m\u001b[1;33m,\u001b[0m \u001b[1;34m\"cumulative_cases\"\u001b[0m\u001b[1;33m,\u001b[0m \u001b[1;34m\"cumulative_deaths\"\u001b[0m\u001b[1;33m,\u001b[0m \u001b[1;34m\"cases\"\u001b[0m\u001b[1;33m,\u001b[0m \u001b[1;34m\"deaths\"\u001b[0m\u001b[1;33m,\u001b[0m \u001b[1;34m\"date\"\u001b[0m\u001b[1;33m,\u001b[0m \u001b[1;34m\"population\"\u001b[0m\u001b[1;33m]\u001b[0m\u001b[1;33m]\u001b[0m\u001b[1;33m\u001b[0m\u001b[1;33m\u001b[0m\u001b[0m\n\u001b[0m\u001b[0;32m      4\u001b[0m     \u001b[0mdata\u001b[0m\u001b[1;33m.\u001b[0m\u001b[0mcolumns\u001b[0m \u001b[1;33m=\u001b[0m \u001b[1;33m[\u001b[0m\u001b[1;34m\"county\"\u001b[0m\u001b[1;33m,\u001b[0m \u001b[1;34m\"totalcountconfirmed\"\u001b[0m\u001b[1;33m,\u001b[0m \u001b[1;34m\"totalcountdeaths\"\u001b[0m\u001b[1;33m,\u001b[0m \u001b[1;34m\"newcountconfirmed\"\u001b[0m\u001b[1;33m,\u001b[0m \u001b[1;34m\"newcountdeaths\"\u001b[0m\u001b[1;33m,\u001b[0m \u001b[1;34m\"date\"\u001b[0m\u001b[1;33m,\u001b[0m \u001b[1;34m\"population\"\u001b[0m\u001b[1;33m]\u001b[0m\u001b[1;33m\u001b[0m\u001b[1;33m\u001b[0m\u001b[0m\n\u001b[0;32m      5\u001b[0m     \u001b[0mdata\u001b[0m \u001b[1;33m=\u001b[0m \u001b[0mdata\u001b[0m\u001b[1;33m.\u001b[0m\u001b[0mdropna\u001b[0m\u001b[1;33m(\u001b[0m\u001b[1;33m)\u001b[0m\u001b[1;33m\u001b[0m\u001b[1;33m\u001b[0m\u001b[0m\n",
      "\u001b[1;32m~\\anaconda3\\lib\\site-packages\\pandas\\core\\frame.py\u001b[0m in \u001b[0;36m__getitem__\u001b[1;34m(self, key)\u001b[0m\n\u001b[0;32m   2804\u001b[0m             \u001b[1;32mif\u001b[0m \u001b[0mis_iterator\u001b[0m\u001b[1;33m(\u001b[0m\u001b[0mkey\u001b[0m\u001b[1;33m)\u001b[0m\u001b[1;33m:\u001b[0m\u001b[1;33m\u001b[0m\u001b[1;33m\u001b[0m\u001b[0m\n\u001b[0;32m   2805\u001b[0m                 \u001b[0mkey\u001b[0m \u001b[1;33m=\u001b[0m \u001b[0mlist\u001b[0m\u001b[1;33m(\u001b[0m\u001b[0mkey\u001b[0m\u001b[1;33m)\u001b[0m\u001b[1;33m\u001b[0m\u001b[1;33m\u001b[0m\u001b[0m\n\u001b[1;32m-> 2806\u001b[1;33m             \u001b[0mindexer\u001b[0m \u001b[1;33m=\u001b[0m \u001b[0mself\u001b[0m\u001b[1;33m.\u001b[0m\u001b[0mloc\u001b[0m\u001b[1;33m.\u001b[0m\u001b[0m_get_listlike_indexer\u001b[0m\u001b[1;33m(\u001b[0m\u001b[0mkey\u001b[0m\u001b[1;33m,\u001b[0m \u001b[0maxis\u001b[0m\u001b[1;33m=\u001b[0m\u001b[1;36m1\u001b[0m\u001b[1;33m,\u001b[0m \u001b[0mraise_missing\u001b[0m\u001b[1;33m=\u001b[0m\u001b[1;32mTrue\u001b[0m\u001b[1;33m)\u001b[0m\u001b[1;33m[\u001b[0m\u001b[1;36m1\u001b[0m\u001b[1;33m]\u001b[0m\u001b[1;33m\u001b[0m\u001b[1;33m\u001b[0m\u001b[0m\n\u001b[0m\u001b[0;32m   2807\u001b[0m \u001b[1;33m\u001b[0m\u001b[0m\n\u001b[0;32m   2808\u001b[0m         \u001b[1;31m# take() does not accept boolean indexers\u001b[0m\u001b[1;33m\u001b[0m\u001b[1;33m\u001b[0m\u001b[1;33m\u001b[0m\u001b[0m\n",
      "\u001b[1;32m~\\anaconda3\\lib\\site-packages\\pandas\\core\\indexing.py\u001b[0m in \u001b[0;36m_get_listlike_indexer\u001b[1;34m(self, key, axis, raise_missing)\u001b[0m\n\u001b[0;32m   1550\u001b[0m             \u001b[0mkeyarr\u001b[0m\u001b[1;33m,\u001b[0m \u001b[0mindexer\u001b[0m\u001b[1;33m,\u001b[0m \u001b[0mnew_indexer\u001b[0m \u001b[1;33m=\u001b[0m \u001b[0max\u001b[0m\u001b[1;33m.\u001b[0m\u001b[0m_reindex_non_unique\u001b[0m\u001b[1;33m(\u001b[0m\u001b[0mkeyarr\u001b[0m\u001b[1;33m)\u001b[0m\u001b[1;33m\u001b[0m\u001b[1;33m\u001b[0m\u001b[0m\n\u001b[0;32m   1551\u001b[0m \u001b[1;33m\u001b[0m\u001b[0m\n\u001b[1;32m-> 1552\u001b[1;33m         self._validate_read_indexer(\n\u001b[0m\u001b[0;32m   1553\u001b[0m             \u001b[0mkeyarr\u001b[0m\u001b[1;33m,\u001b[0m \u001b[0mindexer\u001b[0m\u001b[1;33m,\u001b[0m \u001b[0mo\u001b[0m\u001b[1;33m.\u001b[0m\u001b[0m_get_axis_number\u001b[0m\u001b[1;33m(\u001b[0m\u001b[0maxis\u001b[0m\u001b[1;33m)\u001b[0m\u001b[1;33m,\u001b[0m \u001b[0mraise_missing\u001b[0m\u001b[1;33m=\u001b[0m\u001b[0mraise_missing\u001b[0m\u001b[1;33m\u001b[0m\u001b[1;33m\u001b[0m\u001b[0m\n\u001b[0;32m   1554\u001b[0m         )\n",
      "\u001b[1;32m~\\anaconda3\\lib\\site-packages\\pandas\\core\\indexing.py\u001b[0m in \u001b[0;36m_validate_read_indexer\u001b[1;34m(self, key, indexer, axis, raise_missing)\u001b[0m\n\u001b[0;32m   1644\u001b[0m             \u001b[1;32mif\u001b[0m \u001b[1;32mnot\u001b[0m \u001b[1;33m(\u001b[0m\u001b[0mself\u001b[0m\u001b[1;33m.\u001b[0m\u001b[0mname\u001b[0m \u001b[1;33m==\u001b[0m \u001b[1;34m\"loc\"\u001b[0m \u001b[1;32mand\u001b[0m \u001b[1;32mnot\u001b[0m \u001b[0mraise_missing\u001b[0m\u001b[1;33m)\u001b[0m\u001b[1;33m:\u001b[0m\u001b[1;33m\u001b[0m\u001b[1;33m\u001b[0m\u001b[0m\n\u001b[0;32m   1645\u001b[0m                 \u001b[0mnot_found\u001b[0m \u001b[1;33m=\u001b[0m \u001b[0mlist\u001b[0m\u001b[1;33m(\u001b[0m\u001b[0mset\u001b[0m\u001b[1;33m(\u001b[0m\u001b[0mkey\u001b[0m\u001b[1;33m)\u001b[0m \u001b[1;33m-\u001b[0m \u001b[0mset\u001b[0m\u001b[1;33m(\u001b[0m\u001b[0max\u001b[0m\u001b[1;33m)\u001b[0m\u001b[1;33m)\u001b[0m\u001b[1;33m\u001b[0m\u001b[1;33m\u001b[0m\u001b[0m\n\u001b[1;32m-> 1646\u001b[1;33m                 \u001b[1;32mraise\u001b[0m \u001b[0mKeyError\u001b[0m\u001b[1;33m(\u001b[0m\u001b[1;34mf\"{not_found} not in index\"\u001b[0m\u001b[1;33m)\u001b[0m\u001b[1;33m\u001b[0m\u001b[1;33m\u001b[0m\u001b[0m\n\u001b[0m\u001b[0;32m   1647\u001b[0m \u001b[1;33m\u001b[0m\u001b[0m\n\u001b[0;32m   1648\u001b[0m             \u001b[1;31m# we skip the warning on Categorical/Interval\u001b[0m\u001b[1;33m\u001b[0m\u001b[1;33m\u001b[0m\u001b[1;33m\u001b[0m\u001b[0m\n",
      "\u001b[1;31mKeyError\u001b[0m: \"['cumulative_deaths', 'cumulative_cases'] not in index\""
     ]
    }
   ],
   "source": [
    "new_cases = pd.read_csv(\"resources/covid19cases_test.csv\")\n",
    "covid_weekly = weekly(new_cases)"
   ]
  },
  {
   "cell_type": "code",
   "execution_count": null,
   "metadata": {},
   "outputs": [],
   "source": [
    "covid_weekly"
   ]
  },
  {
   "cell_type": "code",
   "execution_count": null,
   "metadata": {},
   "outputs": [],
   "source": [
    "import json"
   ]
  },
  {
   "cell_type": "code",
   "execution_count": null,
   "metadata": {},
   "outputs": [],
   "source": [
    "# use .to_dict and 'records' orient to make our desired list\n",
    "# can be used as 'data.js', or .insert_many with PyMongo\n",
    "list_d = covid_weekly.to_dict(orient='records')"
   ]
  },
  {
   "cell_type": "code",
   "execution_count": null,
   "metadata": {},
   "outputs": [],
   "source": [
    "# write to a text file for our data.js later\n",
    "with open(\"weekly_dict.txt\", \"w\") as file:\n",
    "    file.write(json.dumps(list_d))"
   ]
  },
  {
   "cell_type": "markdown",
   "metadata": {},
   "source": [
    "### Chart generator"
   ]
  },
  {
   "cell_type": "code",
   "execution_count": null,
   "metadata": {},
   "outputs": [],
   "source": [
    "# operations here are for charting purposes\n",
    "# use a dictionary to create multiple empty lists to store cases per cap\n",
    "obj = {}\n",
    "counties = covid_weekly[\"County\"].unique().tolist()\n",
    "for county in counties:\n",
    "    obj[county] = []\n",
    "\n",
    "# loop through counties and append cases per cap\n",
    "for county in counties:\n",
    "    county_df = covid_weekly.loc[covid_weekly[\"County\"] == county]\n",
    "    obj[county].append(county_df[\"cases per cap\"].tolist())\n",
    "    \n",
    "x_axis = covid_weekly[\"week number\"].unique().tolist()"
   ]
  },
  {
   "cell_type": "code",
   "execution_count": null,
   "metadata": {},
   "outputs": [],
   "source": [
    "# for loop that will plot and save a chart for each county listed\n",
    "for county in counties:\n",
    "    y = obj[county][0]\n",
    "\n",
    "    plt.plot(x_axis, y, label = f\"{county}\")\n",
    "\n",
    "    plt.title(\"Seven-Day Average COVID-19 Cases\", fontweight=\"bold\")\n",
    "    plt.xlabel(\"Weeks: January 1, 2020 - December 2, 2020\")\n",
    "    plt.ylabel(\"Daily Rate per 100,000\")\n",
    "    plt.xticks(x_axis[::5])\n",
    "\n",
    "    plt.legend(loc=\"best\")\n",
    "    plt.tight_layout()\n",
    "    plt.grid()\n",
    "    plt.savefig(f\"Output_data/county_maps/{county}_cases.jpg\", transparent=True, dpi=300)\n",
    "    plt.clf()"
   ]
  },
  {
   "cell_type": "code",
   "execution_count": null,
   "metadata": {},
   "outputs": [],
   "source": []
  }
 ],
 "metadata": {
  "kernelspec": {
   "display_name": "Python 3",
   "language": "python",
   "name": "python3"
  },
  "language_info": {
   "codemirror_mode": {
    "name": "ipython",
    "version": 3
   },
   "file_extension": ".py",
   "mimetype": "text/x-python",
   "name": "python",
   "nbconvert_exporter": "python",
   "pygments_lexer": "ipython3",
   "version": "3.8.3"
  }
 },
 "nbformat": 4,
 "nbformat_minor": 4
}
